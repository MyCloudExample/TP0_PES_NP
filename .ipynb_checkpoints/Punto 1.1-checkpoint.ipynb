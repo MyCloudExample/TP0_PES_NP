{
 "cells": [
  {
   "cell_type": "code",
   "execution_count": 1,
   "id": "54ff9fb4-2f82-4ffe-aeaf-b146773c62f5",
   "metadata": {},
   "outputs": [
    {
     "name": "stdin",
     "output_type": "stream",
     "text": [
      "Muestras tomadas:  100\n"
     ]
    }
   ],
   "source": [
    "#Se genera y grafica la señal cuadrada tuilizando funciones\n",
    "\n",
    "import matplotlib.pyplot as plt\n",
    "\n",
    "def señal_cuadrada (muestras):\n",
    "    aux=[]\n",
    "    for i in range (muestras):\n",
    "        aux.append(0)\n",
    "    for i in range (muestras):\n",
    "        aux.append(1)\n",
    "    graficar(aux)\n",
    "    print(aux)\n",
    "    del aux\n",
    "    return\n",
    "\n",
    "def graficar (vector):\n",
    "    plt.title(\"Escalón\")\n",
    "    plt.plot(vector)\n",
    "    plt.show()\n",
    "\n",
    "a=int(input(\"Muestras tomadas: \"))\n",
    "\n",
    "señal_cuadrada(a)"
   ]
  },
  {
   "cell_type": "code",
   "execution_count": null,
   "id": "a531d200-bb0f-49b8-8427-0aa8a7432b8e",
   "metadata": {},
   "outputs": [],
   "source": []
  }
 ],
 "metadata": {
  "kernelspec": {
   "display_name": "Python 3 (ipykernel)",
   "language": "python",
   "name": "python3"
  },
  "language_info": {
   "codemirror_mode": {
    "name": "ipython",
    "version": 3
   },
   "file_extension": ".py",
   "mimetype": "text/x-python",
   "name": "python",
   "nbconvert_exporter": "python",
   "pygments_lexer": "ipython3",
   "version": "3.11.2"
  }
 },
 "nbformat": 4,
 "nbformat_minor": 5
}
