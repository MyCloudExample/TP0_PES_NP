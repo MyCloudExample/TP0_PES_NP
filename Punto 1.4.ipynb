{
 "cells": [
  {
   "cell_type": "code",
   "execution_count": 1,
   "id": "b91c595d-e704-43c9-878e-3d08a5081233",
   "metadata": {},
   "outputs": [
    {
     "name": "stdout",
     "output_type": "stream",
     "text": [
      "Ingrese cantidad de muestras:  100\n"
     ]
    },
    {
     "name": "stdout",
     "output_type": "stream",
     "text": [
      "1. Señal Cuadrada\n",
      "2. Señal Triangular\n",
      "3. Señal Delta Dirac\n"
     ]
    },
    {
     "name": "stdout",
     "output_type": "stream",
     "text": [
      "Señal a graficar:  3\n"
     ]
    },
    {
     "data": {
      "image/png": "[encoded data removed]",
      "text/plain": [
       "<Figure size 640x480 with 1 Axes>"
      ]
     },
     "metadata": {},
     "output_type": "display_data"
    },
    {
     "name": "stdout",
     "output_type": "stream",
     "text": [
      "[0, 0, 0, 0, 0, 0, 0, 0, 0, 0, 0, 0, 0, 0, 0, 0, 0, 0, 0, 0, 0, 0, 0, 0, 0, 0, 0, 0, 0, 0, 0, 0, 0, 0, 0, 0, 0, 0, 0, 0, 0, 0, 0, 0, 0, 0, 0, 0, 0, 0, 0, 1, 0, 0, 0, 0, 0, 0, 0, 0, 0, 0, 0, 0, 0, 0, 0, 0, 0, 0, 0, 0, 0, 0, 0, 0, 0, 0, 0, 0, 0, 0, 0, 0, 0, 0, 0, 0, 0, 0, 0, 0, 0, 0, 0, 0, 0, 0, 0, 0, 0]\n",
      "Help on function switch_case in module __main__:\n",
      "\n",
      "switch_case(muestras)\n",
      "    ESTE ES UN MENU PARA SELECCIONAR QUE FUNCION GRAFICAR, LAS FUNCIONES CONTENIDAS DENTRO DE SWITCH_CASE\n",
      "    PUEDEN MANIPULAR LAS VARAIBLES DENTRO DE SWITCH_CASE\n",
      "\n"
     ]
    }
   ],
   "source": [
    "#Se realizara un menu que permita seleccionar que funcion se desea graficar, el menu se dee hacer si utilizar tantas funciones IF\n",
    "\n",
    "import matplotlib.pyplot as plt\n",
    "\n",
    "\n",
    "def graficar (vector):\n",
    "    plt.title(\"Delta Dirac\")\n",
    "    plt.plot(vector)\n",
    "    plt.show()\n",
    "\n",
    "def switch_case (muestras):\n",
    "    \"\"\"ESTE ES UN MENU PARA SELECCIONAR QUE FUNCION GRAFICAR, LAS FUNCIONES CONTENIDAS DENTRO DE SWITCH_CASE\n",
    "    PUEDEN MANIPULAR LAS VARAIBLES DENTRO DE SWITCH_CASE\"\"\"\n",
    "\n",
    "    print(\"1. Señal Cuadrada\")\n",
    "    print(\"2. Señal Triangular\")\n",
    "    print(\"3. Señal Delta Dirac\")\n",
    "\n",
    "    opcion=int(input(\"Señal a graficar: \"))\n",
    "    #muestras=int(input(\"Cantidad de muestras: \"))\n",
    "\n",
    "    def señal_DeltaDirac ():\n",
    "        aux=[]\n",
    "        medio=int(muestras/2)\n",
    "        for i in range (muestras):\n",
    "            aux.append(0)\n",
    "            if(i==medio):\n",
    "                aux.append(1)\n",
    "        graficar(aux)\n",
    "        print(aux)\n",
    "        del aux\n",
    "        return\n",
    "\n",
    "    def señal_cuadrada ():\n",
    "        aux=[]\n",
    "        for i in range (muestras):\n",
    "            aux.append(0)\n",
    "        for i in range (muestras):\n",
    "            aux.append(1)\n",
    "        graficar(aux)\n",
    "        print(aux)\n",
    "        del aux\n",
    "        return\n",
    "\n",
    "    def señal_triangular ():\n",
    "        aux=[]\n",
    "        for i in range (muestras):\n",
    "            aux.append(i)\n",
    "        for i in range (muestras,0,-1):\n",
    "            aux.append(i)\n",
    "        graficar(aux)\n",
    "        print(aux)\n",
    "        del aux\n",
    "        return\n",
    "\n",
    "    dic={3:señal_DeltaDirac, 1:señal_cuadrada, 2:señal_triangular}\n",
    "    dic.get(opcion) ()\n",
    "\n",
    "a=int(input(\"Ingrese cantidad de muestras: \"))\n",
    "switch_case(a)\n",
    "help(switch_case)\n",
    "\n"
   ]
  },
  {
   "cell_type": "code",
   "execution_count": null,
   "id": "5a5325a8-e1ce-43e7-a06c-92a6aa0c8f58",
   "metadata": {},
   "outputs": [],
   "source": []
  }
 ],
 "metadata": {
  "kernelspec": {
   "display_name": "Python 3 (ipykernel)",
   "language": "python",
   "name": "python3"
  },
  "language_info": {
   "codemirror_mode": {
    "name": "ipython",
    "version": 3
   },
   "file_extension": ".py",
   "mimetype": "text/x-python",
   "name": "python",
   "nbconvert_exporter": "python",
   "pygments_lexer": "ipython3",
   "version": "3.11.2"
  }
 },
 "nbformat": 4,
 "nbformat_minor": 5
}
